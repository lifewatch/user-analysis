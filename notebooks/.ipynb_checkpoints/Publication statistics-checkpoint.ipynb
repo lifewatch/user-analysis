{
 "cells": [
  {
   "cell_type": "markdown",
   "metadata": {},
   "source": [
    "# LifeWatch publication statistics - general\n",
    "\n",
    "This jupyter notebook contains summary statistics relating to scientific publications published within the LifeWatch project."
   ]
  },
  {
   "cell_type": "code",
   "execution_count": 1,
   "metadata": {},
   "outputs": [],
   "source": [
    "# Load necessary libraries and functions\n",
    "import sys\n",
    "import os\n",
    "import chardet\n",
    "import pandas as pd\n",
    "import numpy as np\n",
    "import matplotlib.pyplot as plt\n",
    "\n",
    "from jupnoteFunctions import duplicate_check, duplicate_remove"
   ]
  },
  {
   "cell_type": "markdown",
   "metadata": {},
   "source": [
    "## 1. LW publication data preparation and cleaning\n",
    "In this par of the analysis, the standardized publication data is prepared and cleaned for statistics calculations."
   ]
  },
  {
   "cell_type": "code",
   "execution_count": 2,
   "metadata": {
    "scrolled": false
   },
   "outputs": [],
   "source": [
    "# Read data\n",
    "location_standdata = os.path.join(os.path.abspath(os.path.join(os.getcwd(), os.pardir)), \"user-analysis\", \"standardized_data\", \"stand_data.csv\")\n",
    "data = pd.read_csv(location_standdata)"
   ]
  },
  {
   "cell_type": "code",
   "execution_count": 36,
   "metadata": {},
   "outputs": [],
   "source": [
    "# Rename columns\n",
    "data.rename(columns = {'SortDate':'Year', 'Affiliation': 'nonstand_affil', 'stand_affil':'Affiliation', 'country_stand': 'Country'}, inplace=True)"
   ]
  },
  {
   "cell_type": "code",
   "execution_count": 4,
   "metadata": {},
   "outputs": [],
   "source": [
    "# Set correct data types for important columns:  \n",
    "data['BrefID'] = data['BrefID'].astype(\"category\")\n",
    "data['Year'] = data['Year'].astype(\"category\")\n",
    "data['BibLvlCode'] = data['BibLvlCode'].astype(\"category\")\n",
    "\n",
    "#not so important ones:\n",
    "#data['StandardTitle'] = data['StandardTitle'].astype(\"category\")\n",
    "#data['AbstractEnglish'] = data['AbstractEnglish'].astype(\"string\")\n",
    "#data['WoScode'] = data['WoScode'].astype(\"category\")\n",
    "#data['FullAut'] = data['FullAut'].astype(\"string\")"
   ]
  },
  {
   "cell_type": "code",
   "execution_count": 5,
   "metadata": {},
   "outputs": [],
   "source": [
    "# Set correct years for user analysis\n",
    "included_years = [2012, 2013, 2014, 2015, 2016, 2017, 2018, 2019, 2020]\n",
    "data[data['Year'].isin(included_years)].shape\n",
    "\n",
    "data['Year'].cat.remove_unused_categories(inplace=True)"
   ]
  },
  {
   "cell_type": "markdown",
   "metadata": {},
   "source": [
    "Removal of duplicate records -- Optional --\n",
    "\n",
    "Analysis indicated that a few publications were stored multiple times (same title, different BrefIDs). If wanted, these can be removed. However, this only applies to a very small amount and hence will only slighty alter statistics."
   ]
  },
  {
   "cell_type": "code",
   "execution_count": 6,
   "metadata": {
    "scrolled": true
   },
   "outputs": [],
   "source": [
    "#Check duplicate information\n",
    "duplicates = duplicate_check(data, 'BrefID', 'StandardTitle', 'Year')"
   ]
  },
  {
   "cell_type": "code",
   "execution_count": 7,
   "metadata": {},
   "outputs": [],
   "source": [
    "#Remove duplicates\n",
    "data_nodup = duplicate_remove(data, duplicates)"
   ]
  },
  {
   "cell_type": "markdown",
   "metadata": {},
   "source": [
    "## 2. Statistics:"
   ]
  },
  {
   "cell_type": "markdown",
   "metadata": {},
   "source": [
    "### Number of publications:"
   ]
  },
  {
   "cell_type": "code",
   "execution_count": 11,
   "metadata": {},
   "outputs": [],
   "source": [
    "#select necessary columns:\n",
    "subset = data[['BrefID', 'Year']]\n",
    "#summarize data:\n",
    "pubs_summ = subset.groupby('Year', as_index=False).nunique('BrefID')\n",
    "\n",
    "pubs_summ['BrefID_cuml'] = pubs_summ['BrefID'].cumsum()"
   ]
  },
  {
   "cell_type": "code",
   "execution_count": 12,
   "metadata": {},
   "outputs": [
    {
     "data": {
      "text/html": [
       "<div>\n",
       "<style scoped>\n",
       "    .dataframe tbody tr th:only-of-type {\n",
       "        vertical-align: middle;\n",
       "    }\n",
       "\n",
       "    .dataframe tbody tr th {\n",
       "        vertical-align: top;\n",
       "    }\n",
       "\n",
       "    .dataframe thead th {\n",
       "        text-align: right;\n",
       "    }\n",
       "</style>\n",
       "<table border=\"1\" class=\"dataframe\">\n",
       "  <thead>\n",
       "    <tr style=\"text-align: right;\">\n",
       "      <th>Year</th>\n",
       "      <th>2012</th>\n",
       "      <th>2013</th>\n",
       "      <th>2014</th>\n",
       "      <th>2015</th>\n",
       "      <th>2016</th>\n",
       "      <th>2017</th>\n",
       "      <th>2018</th>\n",
       "      <th>2019</th>\n",
       "      <th>2020</th>\n",
       "      <th>2021</th>\n",
       "      <th>2022</th>\n",
       "    </tr>\n",
       "  </thead>\n",
       "  <tbody>\n",
       "    <tr>\n",
       "      <th>BrefID</th>\n",
       "      <td>231</td>\n",
       "      <td>341</td>\n",
       "      <td>381</td>\n",
       "      <td>386</td>\n",
       "      <td>334</td>\n",
       "      <td>441</td>\n",
       "      <td>902</td>\n",
       "      <td>1046</td>\n",
       "      <td>1284</td>\n",
       "      <td>769</td>\n",
       "      <td>1</td>\n",
       "    </tr>\n",
       "    <tr>\n",
       "      <th>BrefID_cuml</th>\n",
       "      <td>231</td>\n",
       "      <td>572</td>\n",
       "      <td>953</td>\n",
       "      <td>1339</td>\n",
       "      <td>1673</td>\n",
       "      <td>2114</td>\n",
       "      <td>3016</td>\n",
       "      <td>4062</td>\n",
       "      <td>5346</td>\n",
       "      <td>6115</td>\n",
       "      <td>6116</td>\n",
       "    </tr>\n",
       "  </tbody>\n",
       "</table>\n",
       "</div>"
      ],
      "text/plain": [
       "Year         2012  2013  2014  2015  2016  2017  2018  2019  2020  2021  2022\n",
       "BrefID        231   341   381   386   334   441   902  1046  1284   769     1\n",
       "BrefID_cuml   231   572   953  1339  1673  2114  3016  4062  5346  6115  6116"
      ]
     },
     "execution_count": 12,
     "metadata": {},
     "output_type": "execute_result"
    }
   ],
   "source": [
    "table1 = pubs_summ.set_index('Year').T\n",
    "table1"
   ]
  },
  {
   "cell_type": "code",
   "execution_count": 13,
   "metadata": {},
   "outputs": [
    {
     "data": {
      "image/png": "[encoded data removed]",
      "text/plain": [
       "<Figure size 1080x288 with 2 Axes>"
      ]
     },
     "metadata": {
      "needs_background": "light"
     },
     "output_type": "display_data"
    }
   ],
   "source": [
    "fig, (ax1,ax2) = plt.subplots(1,2, figsize=(15,4)) \n",
    "pubs_barplot = pubs_summ.plot(kind=\"bar\", x='Year', y='BrefID', title=\"Number of unique publications\", legend=False, ax=ax1)\n",
    "cumm_pubs_barplot = pubs_summ.plot(kind=\"bar\", x='Year', y='BrefID_cuml', title=\"Cumulative number of unique publications\", legend=False, ax=ax2)"
   ]
  },
  {
   "cell_type": "markdown",
   "metadata": {},
   "source": [
    "### Number of Affiliations:"
   ]
  },
  {
   "cell_type": "code",
   "execution_count": 15,
   "metadata": {},
   "outputs": [],
   "source": [
    "#select necessary columns:\n",
    "subset = data[['BrefID', 'Year', 'Affiliation']]\n",
    "#summarize data:\n",
    "affil_summ = subset.groupby('Year', as_index=False).nunique('Affiliation')\n",
    "\n",
    "#add 'average number of publications per affiliation'\n",
    "affil_summ['Pubs/Affil'] = affil_summ['BrefID']/affil_summ['Affiliation']"
   ]
  },
  {
   "cell_type": "code",
   "execution_count": 16,
   "metadata": {},
   "outputs": [
    {
     "data": {
      "text/html": [
       "<div>\n",
       "<style scoped>\n",
       "    .dataframe tbody tr th:only-of-type {\n",
       "        vertical-align: middle;\n",
       "    }\n",
       "\n",
       "    .dataframe tbody tr th {\n",
       "        vertical-align: top;\n",
       "    }\n",
       "\n",
       "    .dataframe thead th {\n",
       "        text-align: right;\n",
       "    }\n",
       "</style>\n",
       "<table border=\"1\" class=\"dataframe\">\n",
       "  <thead>\n",
       "    <tr style=\"text-align: right;\">\n",
       "      <th>Year</th>\n",
       "      <th>2012</th>\n",
       "      <th>2013</th>\n",
       "      <th>2014</th>\n",
       "      <th>2015</th>\n",
       "      <th>2016</th>\n",
       "      <th>2017</th>\n",
       "      <th>2018</th>\n",
       "      <th>2019</th>\n",
       "      <th>2020</th>\n",
       "      <th>2021</th>\n",
       "      <th>2022</th>\n",
       "    </tr>\n",
       "  </thead>\n",
       "  <tbody>\n",
       "    <tr>\n",
       "      <th>BrefID</th>\n",
       "      <td>231.00</td>\n",
       "      <td>341.00</td>\n",
       "      <td>381.00</td>\n",
       "      <td>386.00</td>\n",
       "      <td>334.00</td>\n",
       "      <td>441.00</td>\n",
       "      <td>902.00</td>\n",
       "      <td>1046.00</td>\n",
       "      <td>1284.00</td>\n",
       "      <td>769.00</td>\n",
       "      <td>1.0</td>\n",
       "    </tr>\n",
       "    <tr>\n",
       "      <th>Affiliation</th>\n",
       "      <td>84.00</td>\n",
       "      <td>117.00</td>\n",
       "      <td>124.00</td>\n",
       "      <td>108.00</td>\n",
       "      <td>93.00</td>\n",
       "      <td>100.00</td>\n",
       "      <td>70.00</td>\n",
       "      <td>145.00</td>\n",
       "      <td>75.00</td>\n",
       "      <td>19.00</td>\n",
       "      <td>0.0</td>\n",
       "    </tr>\n",
       "    <tr>\n",
       "      <th>Pubs/Affil</th>\n",
       "      <td>2.75</td>\n",
       "      <td>2.91</td>\n",
       "      <td>3.07</td>\n",
       "      <td>3.57</td>\n",
       "      <td>3.59</td>\n",
       "      <td>4.41</td>\n",
       "      <td>12.89</td>\n",
       "      <td>7.21</td>\n",
       "      <td>17.12</td>\n",
       "      <td>40.47</td>\n",
       "      <td>inf</td>\n",
       "    </tr>\n",
       "  </tbody>\n",
       "</table>\n",
       "</div>"
      ],
      "text/plain": [
       "Year           2012    2013    2014    2015    2016    2017    2018     2019  \\\n",
       "BrefID       231.00  341.00  381.00  386.00  334.00  441.00  902.00  1046.00   \n",
       "Affiliation   84.00  117.00  124.00  108.00   93.00  100.00   70.00   145.00   \n",
       "Pubs/Affil     2.75    2.91    3.07    3.57    3.59    4.41   12.89     7.21   \n",
       "\n",
       "Year            2020    2021  2022  \n",
       "BrefID       1284.00  769.00   1.0  \n",
       "Affiliation    75.00   19.00   0.0  \n",
       "Pubs/Affil     17.12   40.47   inf  "
      ]
     },
     "execution_count": 16,
     "metadata": {},
     "output_type": "execute_result"
    }
   ],
   "source": [
    "table2 = affil_summ.round(2).set_index('Year').T\n",
    "table2"
   ]
  },
  {
   "cell_type": "code",
   "execution_count": 35,
   "metadata": {
    "scrolled": false
   },
   "outputs": [
    {
     "data": {
      "image/png": "[encoded data removed]",
      "text/plain": [
       "<Figure size 1080x288 with 2 Axes>"
      ]
     },
     "metadata": {
      "needs_background": "light"
     },
     "output_type": "display_data"
    }
   ],
   "source": [
    "fig, (ax1, ax2) = plt.subplots(1, 2, figsize=(15,4)) \n",
    "#bar-plot of affiliations (from scientific publications published in the respective year):\n",
    "uniqaffil_barplot = affil_summ.plot(kind=\"bar\", x='Year', y='Affiliation', title=\"Number of unique affiliations\", legend=False, ax=ax1)"
   ]
  },
  {
   "cell_type": "markdown",
   "metadata": {},
   "source": [
    "#### Number of new affiliations:"
   ]
  },
  {
   "cell_type": "code",
   "execution_count": 30,
   "metadata": {},
   "outputs": [],
   "source": [
    "# pivot table of publishing affiliation in publication years:\n",
    "affils = data[['Year', 'Affiliation']].drop_duplicates(['Year', 'Affiliation'])\n",
    "affils['values'] = \"x\"\n",
    "affils_pivot = affils.pivot(index=\"Affiliation\", columns=\"Year\", values=\"values\")\n",
    "\n",
    "#summarize to dataframe to count new affiliations each year:\n",
    "new_affils = pd.DataFrame()\n",
    "new_affils.at['new_affiliations', 2012] = affils_pivot[2012].count()\n",
    "new_affils.at['new_affiliations', 2013] = affils_pivot.loc[affils_pivot[2012].isna(), 2013].count()\n",
    "new_affils.at['new_affiliations', 2014] = affils_pivot.loc[(affils_pivot[2012].isna())&(affils_pivot[2013].isna()), 2014].count()\n",
    "new_affils.at['new_affiliations', 2015] = affils_pivot.loc[(affils_pivot[2012].isna())&(affils_pivot[2013].isna())&(affils_pivot[2014].isna()), 2015].count()\n",
    "new_affils.at['new_affiliations', 2016] = affils_pivot.loc[(affils_pivot[2012].isna())&(affils_pivot[2013].isna())&(affils_pivot[2014].isna())&(affils_pivot[2015].isna()), 2016].count()\n",
    "new_affils.at['new_affiliations', 2017] = affils_pivot.loc[(affils_pivot[2012].isna())&(affils_pivot[2013].isna())&(affils_pivot[2014].isna())&(affils_pivot[2015].isna())&(affils_pivot[2016].isna()), 2017].count()\n",
    "new_affils.at['new_affiliations', 2018] = affils_pivot.loc[(affils_pivot[2012].isna())&(affils_pivot[2013].isna())&(affils_pivot[2014].isna())&(affils_pivot[2015].isna())&(affils_pivot[2016].isna())&(affils_pivot[2017].isna()), 2018].count()\n",
    "new_affils.at['new_affiliations', 2019] = affils_pivot.loc[(affils_pivot[2012].isna())&(affils_pivot[2013].isna())&(affils_pivot[2014].isna())&(affils_pivot[2015].isna())&(affils_pivot[2016].isna())&(affils_pivot[2017].isna())&(affils_pivot[2018].isna()), 2019].count()\n",
    "new_affils.at['new_affiliations', 2020] = affils_pivot.loc[(affils_pivot[2012].isna())&(affils_pivot[2013].isna())&(affils_pivot[2014].isna())&(affils_pivot[2015].isna())&(affils_pivot[2016].isna())&(affils_pivot[2017].isna())&(affils_pivot[2018].isna())&(affils_pivot[2019].isna()), 2020].count()\n",
    "\n",
    "new_affils = new_affils.T.reset_index().rename(columns={'index': 'Year'})\n",
    "new_affils['new_affiliations_cum'] = new_affils['new_affiliations'].cumsum()"
   ]
  },
  {
   "cell_type": "code",
   "execution_count": 31,
   "metadata": {},
   "outputs": [
    {
     "data": {
      "text/html": [
       "<div>\n",
       "<style scoped>\n",
       "    .dataframe tbody tr th:only-of-type {\n",
       "        vertical-align: middle;\n",
       "    }\n",
       "\n",
       "    .dataframe tbody tr th {\n",
       "        vertical-align: top;\n",
       "    }\n",
       "\n",
       "    .dataframe thead th {\n",
       "        text-align: right;\n",
       "    }\n",
       "</style>\n",
       "<table border=\"1\" class=\"dataframe\">\n",
       "  <thead>\n",
       "    <tr style=\"text-align: right;\">\n",
       "      <th>Year</th>\n",
       "      <th>2012</th>\n",
       "      <th>2013</th>\n",
       "      <th>2014</th>\n",
       "      <th>2015</th>\n",
       "      <th>2016</th>\n",
       "      <th>2017</th>\n",
       "      <th>2018</th>\n",
       "      <th>2019</th>\n",
       "      <th>2020</th>\n",
       "    </tr>\n",
       "  </thead>\n",
       "  <tbody>\n",
       "    <tr>\n",
       "      <th>new_affiliations</th>\n",
       "      <td>85.0</td>\n",
       "      <td>99.0</td>\n",
       "      <td>79.0</td>\n",
       "      <td>63.0</td>\n",
       "      <td>56.0</td>\n",
       "      <td>53.0</td>\n",
       "      <td>24.0</td>\n",
       "      <td>50.0</td>\n",
       "      <td>12.0</td>\n",
       "    </tr>\n",
       "    <tr>\n",
       "      <th>new_affiliations_cum</th>\n",
       "      <td>85.0</td>\n",
       "      <td>184.0</td>\n",
       "      <td>263.0</td>\n",
       "      <td>326.0</td>\n",
       "      <td>382.0</td>\n",
       "      <td>435.0</td>\n",
       "      <td>459.0</td>\n",
       "      <td>509.0</td>\n",
       "      <td>521.0</td>\n",
       "    </tr>\n",
       "  </tbody>\n",
       "</table>\n",
       "</div>"
      ],
      "text/plain": [
       "Year                  2012   2013   2014   2015   2016   2017   2018   2019  \\\n",
       "new_affiliations      85.0   99.0   79.0   63.0   56.0   53.0   24.0   50.0   \n",
       "new_affiliations_cum  85.0  184.0  263.0  326.0  382.0  435.0  459.0  509.0   \n",
       "\n",
       "Year                   2020  \n",
       "new_affiliations       12.0  \n",
       "new_affiliations_cum  521.0  "
      ]
     },
     "execution_count": 31,
     "metadata": {},
     "output_type": "execute_result"
    }
   ],
   "source": [
    "table3 = new_affils.set_index('Year').T\n",
    "table3"
   ]
  },
  {
   "cell_type": "code",
   "execution_count": 32,
   "metadata": {},
   "outputs": [
    {
     "data": {
      "image/png": "[encoded data removed]",
      "text/plain": [
       "<Figure size 1080x288 with 2 Axes>"
      ]
     },
     "metadata": {
      "needs_background": "light"
     },
     "output_type": "display_data"
    }
   ],
   "source": [
    "fig, (ax1,ax2) = plt.subplots(1,2, figsize=(15,4)) \n",
    "# bar-plot of new affiliations each publication year: \n",
    "fig4 = new_affils.plot(kind=\"bar\", x='Year', y='new_affiliations', title=\"Number of new affiliations\", legend=False, ax=ax1)\n",
    "\n",
    "# cumulative bar-plot of new affiliations each publication year:\n",
    "fig5 = new_affils.plot(kind=\"bar\", x='Year', y='new_affiliations_cum', title=\"Cumulative number of new affiliations\", legend=False, ax=ax2)"
   ]
  },
  {
   "cell_type": "markdown",
   "metadata": {},
   "source": [
    "#### Average number of publications per affiliation:"
   ]
  },
  {
   "cell_type": "code",
   "execution_count": 34,
   "metadata": {},
   "outputs": [
    {
     "data": {
      "image/png": "[encoded data removed]",
      "text/plain": [
       "<Figure size 1080x288 with 2 Axes>"
      ]
     },
     "metadata": {
      "needs_background": "light"
     },
     "output_type": "display_data"
    }
   ],
   "source": [
    "fig, (ax1,ax2) = plt.subplots(1,2, figsize=(15,4)) \n",
    "fig6 = affil_summ.plot(kind=\"bar\", x='Year', y='Pubs/Affil', title=\"Average number of publications per affiliation\", legend=False, ax=ax1)"
   ]
  }
 ],
 "metadata": {
  "kernelspec": {
   "display_name": "Python 3",
   "language": "python",
   "name": "python3"
  },
  "language_info": {
   "codemirror_mode": {
    "name": "ipython",
    "version": 3
   },
   "file_extension": ".py",
   "mimetype": "text/x-python",
   "name": "python",
   "nbconvert_exporter": "python",
   "pygments_lexer": "ipython3",
   "version": "3.7.5"
  }
 },
 "nbformat": 4,
 "nbformat_minor": 4
}
