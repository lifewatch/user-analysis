{
 "cells": [
  {
   "cell_type": "markdown",
   "metadata": {},
   "source": [
    "# LifeWatch publication Statistics per special collection\n",
    "\n",
    "This jupyter notebook contains general summary statistics relating to scientific publications of special collections within the LifeWatch project. "
   ]
  },
  {
   "cell_type": "markdown",
   "metadata": {},
   "source": [
    "Import packages and load the data"
   ]
  },
  {
   "cell_type": "code",
   "execution_count": 32,
   "metadata": {},
   "outputs": [],
   "source": [
    "# Load necessary libraries and functions\n",
    "import sys\n",
    "import os\n",
    "import chardet\n",
    "import pandas as pd\n",
    "import numpy as np\n",
    "import matplotlib.pyplot as plt"
   ]
  },
  {
   "cell_type": "code",
   "execution_count": 57,
   "metadata": {},
   "outputs": [],
   "source": [
    "# Select the data file\n",
    "name_datafile = \"test4.csv\"\n",
    "\n",
    "# Read data\n",
    "location_standdata = os.path.join(os.path.abspath(os.path.join(os.getcwd(), os.pardir)), \"LW_publications_standardized\", name_datafile)\n",
    "data = pd.read_csv(location_standdata)\n",
    "data.rename(columns={'SortDate': 'Year'}, inplace=True)\n",
    "#print(data.columns)"
   ]
  },
  {
   "cell_type": "markdown",
   "metadata": {},
   "source": [
    "## Select a special collection"
   ]
  },
  {
   "cell_type": "code",
   "execution_count": 58,
   "metadata": {},
   "outputs": [],
   "source": [
    "#list of the included special collections:\n",
    "special_collections = [ \n",
    "'EUROBIS ackn - indirect use',\n",
    "'European Oceanographic Biogeographic Information System (EurOBIS) acknowledged',\n",
    "'Interim Register of Marine and Nonmarine Genera (IRMNG) acknowledged',\n",
    "'Lifewatch acknowledged',\n",
    "'LifeWatch Marine Data Archeology',\n",
    "'LifeWatch Observatory',\n",
    "'LifeWatch Species Information Backbone',\n",
    "'Marine Regions acknowledged',\n",
    "'World Register of Marine Species (WoRMS) acknowledged',\n",
    "'WoRMS ackn - direct reference',\n",
    "'Bio-ORACLE',\n",
    "'EUROBIS ackn - direct reference',\n",
    "'EUROBIS ackn - indirect use',\n",
    "'European Oceanographic Biogeographic Information System (EurOBIS) acknowledged',\n",
    "'Interim Register of Marine and Nonmarine Genera (IRMNG) acknowledged',\n",
    "'Lifewatch acknowledged',\n",
    "'LifeWatch Species Information Backbone',\n",
    "'WoRMS ackn - direct reference'\n",
    "]"
   ]
  },
  {
   "cell_type": "code",
   "execution_count": 59,
   "metadata": {},
   "outputs": [],
   "source": [
    "#select the special collection\n",
    "spcol = 'Lifewatch acknowledged'\n",
    "\n",
    "# note: this doesn't work with multiple special collections"
   ]
  },
  {
   "cell_type": "code",
   "execution_count": 60,
   "metadata": {},
   "outputs": [],
   "source": [
    "#select publications of specified special collection:\n",
    "spcol_pubs = data[data['spcolNames'].str.contains(spcol)==True]"
   ]
  },
  {
   "cell_type": "markdown",
   "metadata": {},
   "source": [
    "## Statistics about the selected special collection"
   ]
  },
  {
   "cell_type": "markdown",
   "metadata": {},
   "source": [
    "### Number of publications"
   ]
  },
  {
   "cell_type": "code",
   "execution_count": 61,
   "metadata": {},
   "outputs": [
    {
     "data": {
      "text/html": [
       "<div>\n",
       "<style scoped>\n",
       "    .dataframe tbody tr th:only-of-type {\n",
       "        vertical-align: middle;\n",
       "    }\n",
       "\n",
       "    .dataframe tbody tr th {\n",
       "        vertical-align: top;\n",
       "    }\n",
       "\n",
       "    .dataframe thead th {\n",
       "        text-align: right;\n",
       "    }\n",
       "</style>\n",
       "<table border=\"1\" class=\"dataframe\">\n",
       "  <thead>\n",
       "    <tr style=\"text-align: right;\">\n",
       "      <th>Year</th>\n",
       "      <th>2012</th>\n",
       "      <th>2013</th>\n",
       "      <th>2014</th>\n",
       "      <th>2015</th>\n",
       "      <th>2016</th>\n",
       "      <th>2017</th>\n",
       "      <th>2018</th>\n",
       "      <th>2019</th>\n",
       "      <th>2020</th>\n",
       "      <th>2021</th>\n",
       "    </tr>\n",
       "  </thead>\n",
       "  <tbody>\n",
       "    <tr>\n",
       "      <th>BrefID</th>\n",
       "      <td>7</td>\n",
       "      <td>43</td>\n",
       "      <td>60</td>\n",
       "      <td>73</td>\n",
       "      <td>81</td>\n",
       "      <td>82</td>\n",
       "      <td>140</td>\n",
       "      <td>103</td>\n",
       "      <td>136</td>\n",
       "      <td>92</td>\n",
       "    </tr>\n",
       "    <tr>\n",
       "      <th>BrefID_cuml</th>\n",
       "      <td>7</td>\n",
       "      <td>50</td>\n",
       "      <td>110</td>\n",
       "      <td>183</td>\n",
       "      <td>264</td>\n",
       "      <td>346</td>\n",
       "      <td>486</td>\n",
       "      <td>589</td>\n",
       "      <td>725</td>\n",
       "      <td>817</td>\n",
       "    </tr>\n",
       "  </tbody>\n",
       "</table>\n",
       "</div>"
      ],
      "text/plain": [
       "Year         2012  2013  2014  2015  2016  2017  2018  2019  2020  2021\n",
       "BrefID          7    43    60    73    81    82   140   103   136    92\n",
       "BrefID_cuml     7    50   110   183   264   346   486   589   725   817"
      ]
     },
     "execution_count": 61,
     "metadata": {},
     "output_type": "execute_result"
    }
   ],
   "source": [
    "#select necessary columns & rename:\n",
    "subset_spcol_pubs = spcol_pubs[['BrefID', 'Year']]\n",
    "#summarize data - calculate number of publications:\n",
    "pubs_summ = subset_spcol_pubs.groupby('Year', as_index=False).nunique('BrefID')\n",
    "pubs_summ['BrefID_cuml'] = pubs_summ['BrefID'].cumsum()\n",
    "\n",
    "# make into table\n",
    "table1 = pubs_summ.set_index('Year').T\n",
    "table1"
   ]
  },
  {
   "cell_type": "code",
   "execution_count": 49,
   "metadata": {},
   "outputs": [
    {
     "data": {
      "image/png": "[encoded data removed]",
      "text/plain": [
       "<Figure size 1080x288 with 2 Axes>"
      ]
     },
     "metadata": {
      "needs_background": "light"
     },
     "output_type": "display_data"
    }
   ],
   "source": [
    "fig, (ax1,ax2) = plt.subplots(1,2, figsize=(15,4)) \n",
    "pubs_barplot = pubs_summ.plot(kind=\"bar\", x='Year', y='BrefID', title=\"Number of unique publications\", legend=False, ax=ax1)\n",
    "cumm_pubs_barplot = pubs_summ.plot(kind=\"bar\", x='Year', y='BrefID_cuml', title=\"Cumulative number of unique publications\", legend=False, ax=ax2)"
   ]
  },
  {
   "cell_type": "markdown",
   "metadata": {},
   "source": [
    "### Number of Affiliations"
   ]
  },
  {
   "cell_type": "code",
   "execution_count": 51,
   "metadata": {},
   "outputs": [
    {
     "data": {
      "text/html": [
       "<div>\n",
       "<style scoped>\n",
       "    .dataframe tbody tr th:only-of-type {\n",
       "        vertical-align: middle;\n",
       "    }\n",
       "\n",
       "    .dataframe tbody tr th {\n",
       "        vertical-align: top;\n",
       "    }\n",
       "\n",
       "    .dataframe thead th {\n",
       "        text-align: right;\n",
       "    }\n",
       "</style>\n",
       "<table border=\"1\" class=\"dataframe\">\n",
       "  <thead>\n",
       "    <tr style=\"text-align: right;\">\n",
       "      <th>Year</th>\n",
       "      <th>2012</th>\n",
       "      <th>2013</th>\n",
       "      <th>2014</th>\n",
       "      <th>2015</th>\n",
       "      <th>2016</th>\n",
       "      <th>2017</th>\n",
       "      <th>2018</th>\n",
       "      <th>2019</th>\n",
       "      <th>2020</th>\n",
       "      <th>2021</th>\n",
       "    </tr>\n",
       "  </thead>\n",
       "  <tbody>\n",
       "    <tr>\n",
       "      <th>BrefID</th>\n",
       "      <td>7.0</td>\n",
       "      <td>43.00</td>\n",
       "      <td>60.00</td>\n",
       "      <td>73.00</td>\n",
       "      <td>81.00</td>\n",
       "      <td>82.00</td>\n",
       "      <td>140.00</td>\n",
       "      <td>103.00</td>\n",
       "      <td>136.00</td>\n",
       "      <td>92.00</td>\n",
       "    </tr>\n",
       "    <tr>\n",
       "      <th>Affiliation</th>\n",
       "      <td>5.0</td>\n",
       "      <td>27.00</td>\n",
       "      <td>45.00</td>\n",
       "      <td>68.00</td>\n",
       "      <td>62.00</td>\n",
       "      <td>68.00</td>\n",
       "      <td>59.00</td>\n",
       "      <td>82.00</td>\n",
       "      <td>67.00</td>\n",
       "      <td>47.00</td>\n",
       "    </tr>\n",
       "    <tr>\n",
       "      <th>Pubs/Affil</th>\n",
       "      <td>1.4</td>\n",
       "      <td>1.59</td>\n",
       "      <td>1.33</td>\n",
       "      <td>1.07</td>\n",
       "      <td>1.31</td>\n",
       "      <td>1.21</td>\n",
       "      <td>2.37</td>\n",
       "      <td>1.26</td>\n",
       "      <td>2.03</td>\n",
       "      <td>1.96</td>\n",
       "    </tr>\n",
       "  </tbody>\n",
       "</table>\n",
       "</div>"
      ],
      "text/plain": [
       "Year         2012   2013   2014   2015   2016   2017    2018    2019    2020  \\\n",
       "BrefID        7.0  43.00  60.00  73.00  81.00  82.00  140.00  103.00  136.00   \n",
       "Affiliation   5.0  27.00  45.00  68.00  62.00  68.00   59.00   82.00   67.00   \n",
       "Pubs/Affil    1.4   1.59   1.33   1.07   1.31   1.21    2.37    1.26    2.03   \n",
       "\n",
       "Year          2021  \n",
       "BrefID       92.00  \n",
       "Affiliation  47.00  \n",
       "Pubs/Affil    1.96  "
      ]
     },
     "execution_count": 51,
     "metadata": {},
     "output_type": "execute_result"
    }
   ],
   "source": [
    "#select necessary columns:\n",
    "subset = spcol_pubs[['BrefID', 'Year', 'Affiliation']]\n",
    "#summarize data:\n",
    "affil_summ = subset.groupby('Year', as_index=False).nunique('Affiliation')\n",
    "\n",
    "#add 'average number of publications per affiliation'\n",
    "affil_summ['Pubs/Affil'] = affil_summ['BrefID']/affil_summ['Affiliation']\n",
    "\n",
    "#make into table\n",
    "table2 = affil_summ.round(2).set_index('Year').T\n",
    "table2"
   ]
  },
  {
   "cell_type": "code",
   "execution_count": 52,
   "metadata": {},
   "outputs": [
    {
     "data": {
      "image/png": "[encoded data removed]",
      "text/plain": [
       "<Figure size 1080x288 with 2 Axes>"
      ]
     },
     "metadata": {
      "needs_background": "light"
     },
     "output_type": "display_data"
    }
   ],
   "source": [
    "fig, (ax1, ax2) = plt.subplots(1, 2, figsize=(15,4)) \n",
    "#bar-plot of affiliations (from scientific publications published in the respective year):\n",
    "uniqaffil_barplot = affil_summ.plot(kind=\"bar\", x='Year', y='Affiliation', title=\"Number of unique affiliations\", legend=False, ax=ax1)"
   ]
  },
  {
   "cell_type": "markdown",
   "metadata": {},
   "source": [
    "#### Number of new affiliations"
   ]
  },
  {
   "cell_type": "code",
   "execution_count": 53,
   "metadata": {},
   "outputs": [],
   "source": [
    "# pivot table of publishing affiliation in publication years:\n",
    "affils = spcol_pubs[['Year', 'Affiliation']].drop_duplicates(['Year', 'Affiliation'])\n",
    "affils['values'] = \"x\"\n",
    "affils_pivot = affils.pivot(index=\"Affiliation\", columns=\"Year\", values=\"values\")\n",
    "\n",
    "#summarize to dataframe to count new affiliations each year:\n",
    "new_affils = pd.DataFrame()\n",
    "new_affils.at['new_affiliations', 2012] = affils_pivot[2012].count()\n",
    "new_affils.at['new_affiliations', 2013] = affils_pivot.loc[affils_pivot[2012].isna(), 2013].count()\n",
    "new_affils.at['new_affiliations', 2014] = affils_pivot.loc[(affils_pivot[2012].isna())&(affils_pivot[2013].isna()), 2014].count()\n",
    "new_affils.at['new_affiliations', 2015] = affils_pivot.loc[(affils_pivot[2012].isna())&(affils_pivot[2013].isna())&(affils_pivot[2014].isna()), 2015].count()\n",
    "new_affils.at['new_affiliations', 2016] = affils_pivot.loc[(affils_pivot[2012].isna())&(affils_pivot[2013].isna())&(affils_pivot[2014].isna())&(affils_pivot[2015].isna()), 2016].count()\n",
    "new_affils.at['new_affiliations', 2017] = affils_pivot.loc[(affils_pivot[2012].isna())&(affils_pivot[2013].isna())&(affils_pivot[2014].isna())&(affils_pivot[2015].isna())&(affils_pivot[2016].isna()), 2017].count()\n",
    "new_affils.at['new_affiliations', 2018] = affils_pivot.loc[(affils_pivot[2012].isna())&(affils_pivot[2013].isna())&(affils_pivot[2014].isna())&(affils_pivot[2015].isna())&(affils_pivot[2016].isna())&(affils_pivot[2017].isna()), 2018].count()\n",
    "new_affils.at['new_affiliations', 2019] = affils_pivot.loc[(affils_pivot[2012].isna())&(affils_pivot[2013].isna())&(affils_pivot[2014].isna())&(affils_pivot[2015].isna())&(affils_pivot[2016].isna())&(affils_pivot[2017].isna())&(affils_pivot[2018].isna()), 2019].count()\n",
    "new_affils.at['new_affiliations', 2020] = affils_pivot.loc[(affils_pivot[2012].isna())&(affils_pivot[2013].isna())&(affils_pivot[2014].isna())&(affils_pivot[2015].isna())&(affils_pivot[2016].isna())&(affils_pivot[2017].isna())&(affils_pivot[2018].isna())&(affils_pivot[2019].isna()), 2020].count()\n",
    "\n",
    "new_affils = new_affils.T.reset_index().rename(columns={'index': 'Year'})\n",
    "new_affils['new_affiliations_cum'] = new_affils['new_affiliations'].cumsum()"
   ]
  },
  {
   "cell_type": "code",
   "execution_count": 54,
   "metadata": {},
   "outputs": [
    {
     "data": {
      "text/html": [
       "<div>\n",
       "<style scoped>\n",
       "    .dataframe tbody tr th:only-of-type {\n",
       "        vertical-align: middle;\n",
       "    }\n",
       "\n",
       "    .dataframe tbody tr th {\n",
       "        vertical-align: top;\n",
       "    }\n",
       "\n",
       "    .dataframe thead th {\n",
       "        text-align: right;\n",
       "    }\n",
       "</style>\n",
       "<table border=\"1\" class=\"dataframe\">\n",
       "  <thead>\n",
       "    <tr style=\"text-align: right;\">\n",
       "      <th>Year</th>\n",
       "      <th>2012</th>\n",
       "      <th>2013</th>\n",
       "      <th>2014</th>\n",
       "      <th>2015</th>\n",
       "      <th>2016</th>\n",
       "      <th>2017</th>\n",
       "      <th>2018</th>\n",
       "      <th>2019</th>\n",
       "      <th>2020</th>\n",
       "    </tr>\n",
       "  </thead>\n",
       "  <tbody>\n",
       "    <tr>\n",
       "      <th>new_affiliations</th>\n",
       "      <td>6.0</td>\n",
       "      <td>27.0</td>\n",
       "      <td>40.0</td>\n",
       "      <td>53.0</td>\n",
       "      <td>52.0</td>\n",
       "      <td>47.0</td>\n",
       "      <td>42.0</td>\n",
       "      <td>52.0</td>\n",
       "      <td>41.0</td>\n",
       "    </tr>\n",
       "    <tr>\n",
       "      <th>new_affiliations_cum</th>\n",
       "      <td>6.0</td>\n",
       "      <td>33.0</td>\n",
       "      <td>73.0</td>\n",
       "      <td>126.0</td>\n",
       "      <td>178.0</td>\n",
       "      <td>225.0</td>\n",
       "      <td>267.0</td>\n",
       "      <td>319.0</td>\n",
       "      <td>360.0</td>\n",
       "    </tr>\n",
       "  </tbody>\n",
       "</table>\n",
       "</div>"
      ],
      "text/plain": [
       "Year                  2012  2013  2014   2015   2016   2017   2018   2019  \\\n",
       "new_affiliations       6.0  27.0  40.0   53.0   52.0   47.0   42.0   52.0   \n",
       "new_affiliations_cum   6.0  33.0  73.0  126.0  178.0  225.0  267.0  319.0   \n",
       "\n",
       "Year                   2020  \n",
       "new_affiliations       41.0  \n",
       "new_affiliations_cum  360.0  "
      ]
     },
     "execution_count": 54,
     "metadata": {},
     "output_type": "execute_result"
    }
   ],
   "source": [
    "table3 = new_affils.set_index('Year').T\n",
    "table3"
   ]
  },
  {
   "cell_type": "code",
   "execution_count": 55,
   "metadata": {},
   "outputs": [
    {
     "data": {
      "image/png": "[encoded data removed]",
      "text/plain": [
       "<Figure size 1080x288 with 2 Axes>"
      ]
     },
     "metadata": {
      "needs_background": "light"
     },
     "output_type": "display_data"
    }
   ],
   "source": [
    "fig, (ax1,ax2) = plt.subplots(1,2, figsize=(15,4)) \n",
    "# bar-plot of new affiliations each publication year: \n",
    "fig4 = new_affils.plot(kind=\"bar\", x='Year', y='new_affiliations', title=\"Number of new affiliations\", legend=False, ax=ax1)\n",
    "\n",
    "# cumulative bar-plot of new affiliations each publication year:\n",
    "fig5 = new_affils.plot(kind=\"bar\", x='Year', y='new_affiliations_cum', title=\"Cumulative number of new affiliations\", legend=False, ax=ax2)"
   ]
  },
  {
   "cell_type": "markdown",
   "metadata": {},
   "source": [
    "#### Average number of publications per affiliation:"
   ]
  },
  {
   "cell_type": "code",
   "execution_count": 56,
   "metadata": {},
   "outputs": [
    {
     "data": {
      "image/png": "[encoded data removed]",
      "text/plain": [
       "<Figure size 1080x288 with 2 Axes>"
      ]
     },
     "metadata": {
      "needs_background": "light"
     },
     "output_type": "display_data"
    }
   ],
   "source": [
    "fig, (ax1,ax2) = plt.subplots(1,2, figsize=(15,4)) \n",
    "fig6 = affil_summ.plot(kind=\"bar\", x='Year', y='Pubs/Affil', title=\"Average number of publications per affiliation\", legend=False, ax=ax1)"
   ]
  },
  {
   "cell_type": "code",
   "execution_count": null,
   "metadata": {},
   "outputs": [],
   "source": []
  }
 ],
 "metadata": {
  "kernelspec": {
   "display_name": "Python 3",
   "language": "python",
   "name": "python3"
  },
  "language_info": {
   "codemirror_mode": {
    "name": "ipython",
    "version": 3
   },
   "file_extension": ".py",
   "mimetype": "text/x-python",
   "name": "python",
   "nbconvert_exporter": "python",
   "pygments_lexer": "ipython3",
   "version": "3.7.5"
  }
 },
 "nbformat": 4,
 "nbformat_minor": 4
}
