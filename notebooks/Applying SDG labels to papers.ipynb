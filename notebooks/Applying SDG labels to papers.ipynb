{
 "cells": [
  {
   "cell_type": "markdown",
   "metadata": {},
   "source": [
    "# Applying SDG labels to publications\n",
    "\n",
    "This script makes use of the Open SDG project (https://osdg.ai/) and (https://github.com/osdg-ai/osdg-tool/tree/pre-release) to determine which SDG labels should be applied to publications based on the title + abstract. \n",
    "\n",
    "This notebook requires that a OpenSDG docker image is running somewhere. There is currently (2021-11-29) one running on the docker-dev machine and has port 5001 mapped to the correct container port.\n"
   ]
  },
  {
   "cell_type": "code",
   "execution_count": 1,
   "metadata": {},
   "outputs": [],
   "source": [
    "import requests\n",
    "import pandas as pd"
   ]
  },
  {
   "cell_type": "code",
   "execution_count": 2,
   "metadata": {},
   "outputs": [],
   "source": [
    "osdg_url = 'http://docker-dev.vliz.be:5001/tag'\n",
    "# The datafile that contains the publication information. \n",
    "data_file = 'lifewatch_pubs_20211004.xlsx'"
   ]
  },
  {
   "cell_type": "markdown",
   "metadata": {},
   "source": [
    "### Get the labels from the server"
   ]
  },
  {
   "cell_type": "code",
   "execution_count": 3,
   "metadata": {},
   "outputs": [],
   "source": [
    "def get_sdg(row):\n",
    "    '''\n",
    "    This function takes a pandas row and returns the same row with two additional columns. The \"status\" row is\n",
    "    generally used for the http status of the request (I think) and the \"result\" row contains a dict \n",
    "    of <SDG_#>:<relevance> that has values for all SDG numbers that score > 0 on the relevance. \n",
    "    '''\n",
    "    text = str(row['StandardTitle']) + str(row['AbstractEnglish'])\n",
    "    text_dict = {'text':text}\n",
    "    try:\n",
    "        response = requests.post(osdg_url, json=text_dict)\n",
    "        result = response.json()\n",
    "        row['result_status'] = result['status']\n",
    "        row['result'] = {item['sdg']:item['relevance'] for item in result['result']}  \n",
    "    except Exception as err:\n",
    "        print('Something went wrong')\n",
    "        row['result_status'] = 'nOK'\n",
    "        row['result'] = [err]\n",
    "    return row"
   ]
  },
  {
   "cell_type": "code",
   "execution_count": 4,
   "metadata": {},
   "outputs": [],
   "source": [
    "df = pd.read_excel(data_file)"
   ]
  },
  {
   "cell_type": "code",
   "execution_count": 24,
   "metadata": {},
   "outputs": [],
   "source": [
    "# Many of the rows in the file have duplicate Titles and Abstracts. The function to get labels seems pretty slow so \n",
    "# it benefits from having duplicates dropped. \n",
    "df = df.drop_duplicates(subset=['StandardTitle', 'AbstractEnglish'])\n",
    "#\n",
    "small_df = df \n",
    "# If you want to work with a smaller subset for testing then uncomment the following line.\n",
    "#small_df = df.iloc[0:100]"
   ]
  },
  {
   "cell_type": "code",
   "execution_count": 2,
   "metadata": {
    "scrolled": true
   },
   "outputs": [
    {
     "ename": "NameError",
     "evalue": "name 'small_df' is not defined",
     "output_type": "error",
     "traceback": [
      "\u001b[1;31m---------------------------------------------------------------------------\u001b[0m",
      "\u001b[1;31mNameError\u001b[0m                                 Traceback (most recent call last)",
      "\u001b[1;32m<ipython-input-2-6cf99ffdbb3b>\u001b[0m in \u001b[0;36m<module>\u001b[1;34m\u001b[0m\n\u001b[1;32m----> 1\u001b[1;33m \u001b[0msmall_df\u001b[0m  \u001b[1;33m=\u001b[0m \u001b[0msmall_df\u001b[0m\u001b[1;33m.\u001b[0m\u001b[0mapply\u001b[0m\u001b[1;33m(\u001b[0m\u001b[1;32mlambda\u001b[0m \u001b[0mrow\u001b[0m\u001b[1;33m:\u001b[0m \u001b[0mget_sdg\u001b[0m\u001b[1;33m(\u001b[0m\u001b[0mrow\u001b[0m\u001b[1;33m)\u001b[0m\u001b[1;33m,\u001b[0m \u001b[0maxis\u001b[0m\u001b[1;33m=\u001b[0m\u001b[1;36m1\u001b[0m\u001b[1;33m)\u001b[0m\u001b[1;33m\u001b[0m\u001b[1;33m\u001b[0m\u001b[0m\n\u001b[0m\u001b[0;32m      2\u001b[0m \u001b[0msmall_df\u001b[0m\u001b[1;33m\u001b[0m\u001b[1;33m\u001b[0m\u001b[0m\n",
      "\u001b[1;31mNameError\u001b[0m: name 'small_df' is not defined"
     ]
    }
   ],
   "source": [
    "small_df  = small_df.apply(lambda row: get_sdg(row), axis=1)\n",
    "small_df"
   ]
  },
  {
   "cell_type": "code",
   "execution_count": 1,
   "metadata": {},
   "outputs": [
    {
     "ename": "NameError",
     "evalue": "name 'small_df' is not defined",
     "output_type": "error",
     "traceback": [
      "\u001b[1;31m---------------------------------------------------------------------------\u001b[0m",
      "\u001b[1;31mNameError\u001b[0m                                 Traceback (most recent call last)",
      "\u001b[1;32m<ipython-input-1-7e30ba771612>\u001b[0m in \u001b[0;36m<module>\u001b[1;34m\u001b[0m\n\u001b[1;32m----> 1\u001b[1;33m \u001b[0msmall_df\u001b[0m\u001b[1;33m.\u001b[0m\u001b[0mshape\u001b[0m\u001b[1;33m(\u001b[0m\u001b[1;33m)\u001b[0m\u001b[1;33m\u001b[0m\u001b[1;33m\u001b[0m\u001b[0m\n\u001b[0m",
      "\u001b[1;31mNameError\u001b[0m: name 'small_df' is not defined"
     ]
    }
   ],
   "source": [
    "small_df.shape()"
   ]
  },
  {
   "cell_type": "markdown",
   "metadata": {},
   "source": [
    "## Sorta Pivot to get the dict info into columns...\n",
    "Currently the SDG labels are stored in a dict with the SDG# and relevance value. It would be better to have a bunch of columns with the values in there.\n",
    "\n",
    "https://stackoverflow.com/questions/38231591/split-explode-a-column-of-dictionaries-into-separate-columns-with-pandas\n",
    "\n",
    "And checking the histogram of the results might provide some indication on whether to have a cutoff on \"relevance\" "
   ]
  },
  {
   "cell_type": "code",
   "execution_count": 23,
   "metadata": {},
   "outputs": [
    {
     "data": {
      "text/plain": [
       "<AxesSubplot:>"
      ]
     },
     "execution_count": 23,
     "metadata": {},
     "output_type": "execute_result"
    },
    {
     "data": {
      "image/png": "[encoded data removed]",
      "text/plain": [
       "<Figure size 432x288 with 1 Axes>"
      ]
     },
     "metadata": {
      "needs_background": "light"
     },
     "output_type": "display_data"
    }
   ],
   "source": [
    "small_df.join(small_df['result'].apply(pd.Series))['SDG_2'].hist(bins=60)"
   ]
  }
 ],
 "metadata": {
  "kernelspec": {
   "display_name": "Python 3",
   "language": "python",
   "name": "python3"
  },
  "language_info": {
   "codemirror_mode": {
    "name": "ipython",
    "version": 3
   },
   "file_extension": ".py",
   "mimetype": "text/x-python",
   "name": "python",
   "nbconvert_exporter": "python",
   "pygments_lexer": "ipython3",
   "version": "3.7.5"
  }
 },
 "nbformat": 4,
 "nbformat_minor": 5
}
