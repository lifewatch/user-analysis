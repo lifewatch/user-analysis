{
 "cells": [
  {
   "cell_type": "markdown",
   "metadata": {},
   "source": [
    "# LifeWatch publication - General data completeness \n",
    "\n",
    "This jupyter notebook contains general statistics about data completeness of the scientific publications within the LifeWatch project."
   ]
  },
  {
   "cell_type": "markdown",
   "metadata": {},
   "source": [
    "Import packages and load the data"
   ]
  },
  {
   "cell_type": "code",
   "execution_count": 1,
   "metadata": {},
   "outputs": [],
   "source": [
    "# Load necessary libraries and functions\n",
    "import sys\n",
    "import os\n",
    "import chardet\n",
    "import pandas as pd\n",
    "import numpy as np\n",
    "import matplotlib.pyplot as plt"
   ]
  },
  {
   "cell_type": "code",
   "execution_count": 2,
   "metadata": {},
   "outputs": [],
   "source": [
    "# Select the data file\n",
    "name_datafile = \"TEST08122021.csv\"\n",
    "\n",
    "# Read data\n",
    "location_standdata = os.path.join(os.path.abspath(os.path.join(os.getcwd(), os.pardir)), \"LW_publications_standardized\", name_datafile)\n",
    "data = pd.read_csv(location_standdata)\n",
    "data.rename(columns={'SortDate': 'Year'}, inplace=True)\n",
    "#print(data.columns)"
   ]
  },
  {
   "cell_type": "markdown",
   "metadata": {},
   "source": [
    "## Data completeness"
   ]
  },
  {
   "cell_type": "markdown",
   "metadata": {},
   "source": [
    "### Publications with affiliation information available, either in IMIS or from the WoS-export:"
   ]
  },
  {
   "cell_type": "code",
   "execution_count": 9,
   "metadata": {
    "scrolled": true
   },
   "outputs": [],
   "source": [
    "#Select affiliation related columns:\n",
    "affil_data = data[['BrefID', 'Affiliation', 'wos_affil']]"
   ]
  },
  {
   "cell_type": "code",
   "execution_count": 40,
   "metadata": {},
   "outputs": [
    {
     "data": {
      "text/plain": [
       "BrefID         499\n",
       "Affiliation    286\n",
       "wos_affil      279\n",
       "dtype: int64"
      ]
     },
     "execution_count": 40,
     "metadata": {},
     "output_type": "execute_result"
    }
   ],
   "source": [
    "#number of publication with affiliation information available in IMIS, and with affiliation info available from WoS\n",
    "affil_data_count = affil_data.count()\n",
    "affil_data_count"
   ]
  },
  {
   "cell_type": "code",
   "execution_count": 41,
   "metadata": {},
   "outputs": [
    {
     "data": {
      "text/plain": [
       "BrefID         100.000000\n",
       "Affiliation     57.314629\n",
       "wos_affil       55.911824\n",
       "dtype: float64"
      ]
     },
     "execution_count": 41,
     "metadata": {},
     "output_type": "execute_result"
    }
   ],
   "source": [
    "#percentage of publication with affiliation information available in IMIS, and with affiliation info available from WoS\n",
    "affil_data_perc = affil_data_count.divide(affil_data_count.BrefID, axis=0).multiply(100)\n",
    "affil_data_perc"
   ]
  },
  {
   "cell_type": "markdown",
   "metadata": {},
   "source": [
    "#### Note: Special collection 'BioOracle' \n",
    "This special collection was only recently added to IMIS - hence very little affiliation information and WoS codes are available"
   ]
  },
  {
   "cell_type": "code",
   "execution_count": 52,
   "metadata": {},
   "outputs": [],
   "source": [
    "#select publications of the special collection\n",
    "spcol_pubs = data[data['spcolNames'].str.contains('Bio-ORACLE')==True]"
   ]
  },
  {
   "cell_type": "code",
   "execution_count": 41,
   "metadata": {},
   "outputs": [
    {
     "data": {
      "text/plain": [
       "BrefID         100.000000\n",
       "Affiliation     57.314629\n",
       "wos_affil       55.911824\n",
       "dtype: float64"
      ]
     },
     "execution_count": 41,
     "metadata": {},
     "output_type": "execute_result"
    }
   ],
   "source": [
    "#percentage of publication with affiliation information available in IMIS, and with affiliation info available from WoS\n",
    "spcol_pubs_count = data[['BrefID', 'Affiliation', 'wos_affil']].count()\n",
    "affil_data_perc = affil_data_count.divide(affil_data_count.BrefID, axis=0).multiply(100)\n",
    "affil_data_perc"
   ]
  },
  {
   "cell_type": "markdown",
   "metadata": {},
   "source": [
    "### Publications with WoS information available:"
   ]
  },
  {
   "cell_type": "code",
   "execution_count": 43,
   "metadata": {},
   "outputs": [],
   "source": [
    "#Select 'wos'-columns:\n",
    "wos_data = data[['BrefID','WoScode', 'wos_affil', 'wos_country', 'wos_keywords', 'wos_plus_keywords', 'wos_categories', 'wos_researcharea']]"
   ]
  },
  {
   "cell_type": "code",
   "execution_count": 44,
   "metadata": {
    "scrolled": true
   },
   "outputs": [],
   "source": [
    "#Summary statistics\n",
    "include = ['int64', 'object']\n",
    "wosdata_summ = wos_data.describe(include = include)\n",
    "#wosdata_summ"
   ]
  },
  {
   "cell_type": "code",
   "execution_count": 45,
   "metadata": {},
   "outputs": [
    {
     "data": {
      "text/plain": [
       "BrefID               499\n",
       "WoScode              305\n",
       "wos_affil            279\n",
       "wos_country          279\n",
       "wos_keywords         206\n",
       "wos_plus_keywords    255\n",
       "wos_categories       279\n",
       "wos_researcharea     279\n",
       "Name: count, dtype: object"
      ]
     },
     "execution_count": 45,
     "metadata": {},
     "output_type": "execute_result"
    }
   ],
   "source": [
    "#Get absolute count:\n",
    "wosdata_completeness_count = wosdata_summ\n",
    "wosdata_completeness_count.iloc[0]"
   ]
  },
  {
   "cell_type": "code",
   "execution_count": 46,
   "metadata": {},
   "outputs": [
    {
     "data": {
      "text/plain": [
       "BrefID                   100\n",
       "WoScode              61.1222\n",
       "wos_affil            55.9118\n",
       "wos_country          55.9118\n",
       "wos_keywords         41.2826\n",
       "wos_plus_keywords    51.1022\n",
       "wos_categories       55.9118\n",
       "wos_researcharea     55.9118\n",
       "Name: count, dtype: object"
      ]
     },
     "execution_count": 46,
     "metadata": {},
     "output_type": "execute_result"
    }
   ],
   "source": [
    "#Get the percentage:\n",
    "wosdata_completeness_perc = wosdata_summ.divide(wosdata_summ.BrefID, axis=0).multiply(100)\n",
    "wosdata_completeness_perc.iloc[0]"
   ]
  },
  {
   "cell_type": "markdown",
   "metadata": {},
   "source": [
    "### Publications with standardized information available:"
   ]
  },
  {
   "cell_type": "code",
   "execution_count": 47,
   "metadata": {},
   "outputs": [],
   "source": [
    "#Select columns with standardized information \n",
    "#(note: BrefID is included because this info is always present - therefore complete)\n",
    "stand_data = data[['BrefID','stand_affil', 'stand_country', 'stand_flemish', 'stand_GROUP', 'stand_QH']]"
   ]
  },
  {
   "cell_type": "code",
   "execution_count": 48,
   "metadata": {},
   "outputs": [],
   "source": [
    "#Summary statistics\n",
    "include = ['int64', 'object']\n",
    "standdata_summ = stand_data.describe(include = include)\n",
    "#standdata_summ"
   ]
  },
  {
   "cell_type": "code",
   "execution_count": 49,
   "metadata": {},
   "outputs": [
    {
     "data": {
      "text/plain": [
       "BrefID           499\n",
       "stand_affil      359\n",
       "stand_country    263\n",
       "stand_flemish     78\n",
       "stand_GROUP      263\n",
       "stand_QH         263\n",
       "Name: count, dtype: object"
      ]
     },
     "execution_count": 49,
     "metadata": {},
     "output_type": "execute_result"
    }
   ],
   "source": [
    "#Get absolute count:\n",
    "standdata_completeness_count = standdata_summ\n",
    "standdata_completeness_count.iloc[0]"
   ]
  },
  {
   "cell_type": "code",
   "execution_count": 50,
   "metadata": {},
   "outputs": [
    {
     "data": {
      "text/plain": [
       "BrefID               100\n",
       "stand_affil      71.9439\n",
       "stand_country    52.7054\n",
       "stand_flemish    15.6313\n",
       "stand_GROUP      52.7054\n",
       "stand_QH         52.7054\n",
       "Name: count, dtype: object"
      ]
     },
     "execution_count": 50,
     "metadata": {},
     "output_type": "execute_result"
    }
   ],
   "source": [
    "#Get the percentage:\n",
    "standdata_completeness_perc = standdata_summ.divide(standdata_summ.BrefID, axis=0).multiply(100)\n",
    "standdata_completeness_perc.iloc[0]"
   ]
  }
 ],
 "metadata": {
  "kernelspec": {
   "display_name": "Python 3",
   "language": "python",
   "name": "python3"
  },
  "language_info": {
   "codemirror_mode": {
    "name": "ipython",
    "version": 3
   },
   "file_extension": ".py",
   "mimetype": "text/x-python",
   "name": "python",
   "nbconvert_exporter": "python",
   "pygments_lexer": "ipython3",
   "version": "3.7.5"
  }
 },
 "nbformat": 4,
 "nbformat_minor": 4
}
