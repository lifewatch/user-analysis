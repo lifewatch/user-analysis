{
 "cells": [
  {
   "cell_type": "markdown",
   "metadata": {},
   "source": [
    "# General data completeness \n",
    "\n",
    "This jupyter notebook contains general statistics about data completeness of information:\n",
    "1. in the scientific LifeWatch publications  \n",
    "2. of LifeWatch data-systems."
   ]
  },
  {
   "cell_type": "markdown",
   "metadata": {},
   "source": [
    "## 1. LifeWatch publications"
   ]
  },
  {
   "cell_type": "code",
   "execution_count": 106,
   "metadata": {},
   "outputs": [],
   "source": [
    "# Load necessary libraries and functions\n",
    "import os\n",
    "import pandas as pd"
   ]
  },
  {
   "cell_type": "code",
   "execution_count": 107,
   "metadata": {},
   "outputs": [],
   "source": [
    "# Specify location of data:\n",
    "datafolder = \"LW_publications_standardized\" \n",
    "datafiles = [\"LWpubs_stand_0_500.csv\", \n",
    "             \"LWpubs_stand_500_1000.csv\", \n",
    "             \"LWpubs_stand_1000_1500.csv\", \n",
    "             \"LWpubs_stand_1500_2000.csv\", \n",
    "             \"LWpubs_stand_2000_2500.csv\",\n",
    "             \"LWpubs_stand_2500_3000.csv\",\n",
    "             \"LWpubs_stand_3000_3500.csv\",\n",
    "             \"LWpubs_stand_3500_4000.csv\",\n",
    "             \"LWpubs_stand_4000_4500.csv\",\n",
    "             \"LWpubs_stand_4500_5000.csv\",\n",
    "             \"LWpubs_stand_5000_5500.csv\",\n",
    "             \"LWpubs_stand_5500_6000.csv\",\n",
    "             \"LWpubs_stand_6000_6227.csv\"]\n",
    "\n",
    "# Load data into single dataframe:\n",
    "appended_data = []\n",
    "for datafile in datafiles:\n",
    "    data_loc = os.path.join(os.path.abspath(os.path.join(os.getcwd(), os.pardir)), datafolder, datafile)\n",
    "    data = pd.read_csv(data_loc)\n",
    "    data.rename(columns={'SortDate': 'Year'}, inplace=True)\n",
    "    appended_data.append(data)\n",
    "    \n",
    "data = pd.concat(appended_data)\n",
    "#data.columns"
   ]
  },
  {
   "cell_type": "markdown",
   "metadata": {},
   "source": [
    "### A. Publications with affiliation information available, either in IMIS or from the WoS-export:"
   ]
  },
  {
   "cell_type": "code",
   "execution_count": 108,
   "metadata": {
    "scrolled": true
   },
   "outputs": [],
   "source": [
    "#Select affiliation related columns:\n",
    "affil_data = data[['BrefID', 'Affiliation', 'wos_affil']]"
   ]
  },
  {
   "cell_type": "code",
   "execution_count": 109,
   "metadata": {},
   "outputs": [
    {
     "data": {
      "text/plain": [
       "BrefID         6226\n",
       "Affiliation    1128\n",
       "wos_affil      3224\n",
       "dtype: int64"
      ]
     },
     "execution_count": 109,
     "metadata": {},
     "output_type": "execute_result"
    }
   ],
   "source": [
    "#number of publication with affiliation information available in IMIS, and with affiliation info available from WoS\n",
    "affil_data_count = affil_data.count()\n",
    "affil_data_count"
   ]
  },
  {
   "cell_type": "code",
   "execution_count": 110,
   "metadata": {},
   "outputs": [
    {
     "data": {
      "text/plain": [
       "BrefID         100.000000\n",
       "Affiliation     18.117571\n",
       "wos_affil       51.782846\n",
       "dtype: float64"
      ]
     },
     "execution_count": 110,
     "metadata": {},
     "output_type": "execute_result"
    }
   ],
   "source": [
    "#percentage of publication with affiliation information available in IMIS, and with affiliation info available from WoS\n",
    "affil_data_perc = affil_data_count.divide(affil_data_count.BrefID, axis=0).multiply(100)\n",
    "affil_data_perc"
   ]
  },
  {
   "cell_type": "markdown",
   "metadata": {},
   "source": [
    "Sidenote: Special collection 'BioOracle' -> This special collection was added only recently to IMIS - hence very little  information is available"
   ]
  },
  {
   "cell_type": "code",
   "execution_count": 111,
   "metadata": {},
   "outputs": [],
   "source": [
    "#select publications of the special collection\n",
    "spcol_pubs = data[data['spcolNames'].str.contains('Bio-ORACLE')==True]"
   ]
  },
  {
   "cell_type": "code",
   "execution_count": 112,
   "metadata": {},
   "outputs": [
    {
     "data": {
      "text/plain": [
       "BrefID         100.000000\n",
       "Affiliation      6.832298\n",
       "wos_affil        6.211180\n",
       "dtype: float64"
      ]
     },
     "execution_count": 112,
     "metadata": {},
     "output_type": "execute_result"
    }
   ],
   "source": [
    "#percentage of publication with affiliation information available in IMIS, and with affiliation info available from WoS\n",
    "spcol_pubs_count = spcol_pubs[['BrefID', 'Affiliation', 'wos_affil']].count()\n",
    "affil_data_perc = spcol_pubs_count.divide(spcol_pubs_count.BrefID, axis=0).multiply(100)\n",
    "affil_data_perc"
   ]
  },
  {
   "cell_type": "markdown",
   "metadata": {},
   "source": [
    "### B. Publications with WoS information available:"
   ]
  },
  {
   "cell_type": "code",
   "execution_count": 113,
   "metadata": {},
   "outputs": [],
   "source": [
    "#Select 'wos'-columns:\n",
    "wos_data = data[['BrefID','WoScode', 'wos_affil', 'wos_country', 'wos_keywords', 'wos_plus_keywords', 'wos_categories', 'wos_researcharea']]"
   ]
  },
  {
   "cell_type": "code",
   "execution_count": 114,
   "metadata": {
    "scrolled": true
   },
   "outputs": [],
   "source": [
    "#Summary statistics\n",
    "include = ['int64', 'object']\n",
    "wosdata_summ = wos_data.describe(include = include)\n",
    "#wosdata_summ"
   ]
  },
  {
   "cell_type": "code",
   "execution_count": 115,
   "metadata": {},
   "outputs": [
    {
     "data": {
      "text/plain": [
       "BrefID               6226\n",
       "WoScode              3597\n",
       "wos_affil            3224\n",
       "wos_country          3234\n",
       "wos_keywords         2638\n",
       "wos_plus_keywords    2981\n",
       "wos_categories       3234\n",
       "wos_researcharea     3234\n",
       "Name: count, dtype: object"
      ]
     },
     "execution_count": 115,
     "metadata": {},
     "output_type": "execute_result"
    }
   ],
   "source": [
    "#Get absolute count:\n",
    "wosdata_completeness_count = wosdata_summ\n",
    "wosdata_completeness_count.iloc[0]"
   ]
  },
  {
   "cell_type": "code",
   "execution_count": 116,
   "metadata": {},
   "outputs": [
    {
     "data": {
      "text/plain": [
       "BrefID                   100\n",
       "WoScode              57.7739\n",
       "wos_affil            51.7828\n",
       "wos_country          51.9435\n",
       "wos_keywords         42.3707\n",
       "wos_plus_keywords    47.8799\n",
       "wos_categories       51.9435\n",
       "wos_researcharea     51.9435\n",
       "Name: count, dtype: object"
      ]
     },
     "execution_count": 116,
     "metadata": {},
     "output_type": "execute_result"
    }
   ],
   "source": [
    "#Get the percentage:\n",
    "wosdata_completeness_perc = wosdata_summ.divide(wosdata_summ.BrefID, axis=0).multiply(100)\n",
    "wosdata_completeness_perc.iloc[0]"
   ]
  },
  {
   "cell_type": "markdown",
   "metadata": {},
   "source": [
    "### C. Publications with standardized information available:"
   ]
  },
  {
   "cell_type": "code",
   "execution_count": 117,
   "metadata": {},
   "outputs": [],
   "source": [
    "#Select columns with standardized information \n",
    "#(note: BrefID is included because this info is always present - therefore complete)\n",
    "stand_data = data[['BrefID','stand_affil', 'stand_country', 'stand_flemish', 'stand_GROUP', 'stand_QH']]"
   ]
  },
  {
   "cell_type": "code",
   "execution_count": 118,
   "metadata": {},
   "outputs": [],
   "source": [
    "#Summary statistics\n",
    "include = ['int64', 'object']\n",
    "standdata_summ = stand_data.describe(include = include)\n",
    "#standdata_summ"
   ]
  },
  {
   "cell_type": "code",
   "execution_count": 119,
   "metadata": {},
   "outputs": [
    {
     "data": {
      "text/plain": [
       "BrefID           6226\n",
       "stand_affil      3410\n",
       "stand_country    2977\n",
       "stand_flemish     354\n",
       "stand_GROUP      2977\n",
       "stand_QH         2977\n",
       "Name: count, dtype: object"
      ]
     },
     "execution_count": 119,
     "metadata": {},
     "output_type": "execute_result"
    }
   ],
   "source": [
    "#Get absolute count:\n",
    "standdata_completeness_count = standdata_summ\n",
    "standdata_completeness_count.iloc[0]"
   ]
  },
  {
   "cell_type": "code",
   "execution_count": 120,
   "metadata": {
    "scrolled": true
   },
   "outputs": [
    {
     "data": {
      "text/plain": [
       "BrefID               100\n",
       "stand_affil      54.7703\n",
       "stand_country    47.8156\n",
       "stand_flemish    5.68583\n",
       "stand_GROUP      47.8156\n",
       "stand_QH         47.8156\n",
       "Name: count, dtype: object"
      ]
     },
     "execution_count": 120,
     "metadata": {},
     "output_type": "execute_result"
    }
   ],
   "source": [
    "#Get the percentage:\n",
    "standdata_completeness_perc = standdata_summ.divide(standdata_summ.BrefID, axis=0).multiply(100)\n",
    "standdata_completeness_perc.iloc[0]"
   ]
  },
  {
   "cell_type": "markdown",
   "metadata": {},
   "source": [
    "## 2.LifeWatch Data-Systems"
   ]
  },
  {
   "cell_type": "code",
   "execution_count": 123,
   "metadata": {},
   "outputs": [],
   "source": [
    "# Load necessary libraries and functions\n",
    "import os\n",
    "import pandas as pd"
   ]
  },
  {
   "cell_type": "code",
   "execution_count": 124,
   "metadata": {},
   "outputs": [],
   "source": [
    "# Specify location of data:\n",
    "datafile = \"LW_datasystems_stand.csv\"\n",
    "datafolder = \"LW_data_systems_standardized\" \n",
    "# Load data\n",
    "data_loc = os.path.join(os.path.abspath(os.path.join(os.getcwd(), os.pardir)), datafolder, datafile)\n",
    "data = pd.read_csv(data_loc)\n",
    "data.rename(columns={'SortDate': 'Year'}, inplace=True)\n",
    "#print(data.columns)"
   ]
  },
  {
   "cell_type": "markdown",
   "metadata": {},
   "source": [
    "### A. Data-systems with missing standardized affiliation information"
   ]
  },
  {
   "cell_type": "code",
   "execution_count": 125,
   "metadata": {},
   "outputs": [],
   "source": [
    "# Select usefull data - for general overview\n",
    "data_affil = data[['DataSystem','Affiliation', 'stand_affil', 'stand_country', 'stand_flemish', 'stand_GROUP', 'stand_QH']]"
   ]
  },
  {
   "cell_type": "code",
   "execution_count": 126,
   "metadata": {
    "scrolled": false
   },
   "outputs": [
    {
     "data": {
      "text/html": [
       "<div>\n",
       "<style scoped>\n",
       "    .dataframe tbody tr th:only-of-type {\n",
       "        vertical-align: middle;\n",
       "    }\n",
       "\n",
       "    .dataframe tbody tr th {\n",
       "        vertical-align: top;\n",
       "    }\n",
       "\n",
       "    .dataframe thead th {\n",
       "        text-align: right;\n",
       "    }\n",
       "</style>\n",
       "<table border=\"1\" class=\"dataframe\">\n",
       "  <thead>\n",
       "    <tr style=\"text-align: right;\">\n",
       "      <th></th>\n",
       "      <th>DataSystem</th>\n",
       "      <th>Affiliation</th>\n",
       "      <th>stand_affil</th>\n",
       "      <th>stand_country</th>\n",
       "      <th>stand_flemish</th>\n",
       "      <th>stand_GROUP</th>\n",
       "      <th>stand_QH</th>\n",
       "    </tr>\n",
       "  </thead>\n",
       "  <tbody>\n",
       "    <tr>\n",
       "      <th>count</th>\n",
       "      <td>737</td>\n",
       "      <td>735</td>\n",
       "      <td>711</td>\n",
       "      <td>615</td>\n",
       "      <td>140</td>\n",
       "      <td>615</td>\n",
       "      <td>615</td>\n",
       "    </tr>\n",
       "    <tr>\n",
       "      <th>unique</th>\n",
       "      <td>3</td>\n",
       "      <td>553</td>\n",
       "      <td>469</td>\n",
       "      <td>50</td>\n",
       "      <td>2</td>\n",
       "      <td>20</td>\n",
       "      <td>4</td>\n",
       "    </tr>\n",
       "    <tr>\n",
       "      <th>top</th>\n",
       "      <td>Marine_species</td>\n",
       "      <td>VLIZ</td>\n",
       "      <td>VLIZ Flanders Marine Institute</td>\n",
       "      <td>Belgium</td>\n",
       "      <td>x</td>\n",
       "      <td>Research institute</td>\n",
       "      <td>Science</td>\n",
       "    </tr>\n",
       "    <tr>\n",
       "      <th>freq</th>\n",
       "      <td>363</td>\n",
       "      <td>49</td>\n",
       "      <td>49</td>\n",
       "      <td>144</td>\n",
       "      <td>120</td>\n",
       "      <td>205</td>\n",
       "      <td>422</td>\n",
       "    </tr>\n",
       "  </tbody>\n",
       "</table>\n",
       "</div>"
      ],
      "text/plain": [
       "            DataSystem Affiliation                     stand_affil  \\\n",
       "count              737         735                             711   \n",
       "unique               3         553                             469   \n",
       "top     Marine_species        VLIZ  VLIZ Flanders Marine Institute   \n",
       "freq               363          49                              49   \n",
       "\n",
       "       stand_country stand_flemish         stand_GROUP stand_QH  \n",
       "count            615           140                 615      615  \n",
       "unique            50             2                  20        4  \n",
       "top          Belgium             x  Research institute  Science  \n",
       "freq             144           120                 205      422  "
      ]
     },
     "execution_count": 126,
     "metadata": {},
     "output_type": "execute_result"
    }
   ],
   "source": [
    "#summary of dataframe (the number of rows with info for the specific column):\n",
    "data_affil_summ = data_affil.describe()\n",
    "data_affil_summ"
   ]
  },
  {
   "cell_type": "code",
   "execution_count": 127,
   "metadata": {},
   "outputs": [
    {
     "data": {
      "text/html": [
       "<div>\n",
       "<style scoped>\n",
       "    .dataframe tbody tr th:only-of-type {\n",
       "        vertical-align: middle;\n",
       "    }\n",
       "\n",
       "    .dataframe tbody tr th {\n",
       "        vertical-align: top;\n",
       "    }\n",
       "\n",
       "    .dataframe thead th {\n",
       "        text-align: right;\n",
       "    }\n",
       "</style>\n",
       "<table border=\"1\" class=\"dataframe\">\n",
       "  <thead>\n",
       "    <tr style=\"text-align: right;\">\n",
       "      <th></th>\n",
       "      <th>DataSystem</th>\n",
       "      <th>Affiliation</th>\n",
       "      <th>stand_affil</th>\n",
       "      <th>stand_country</th>\n",
       "      <th>stand_flemish</th>\n",
       "      <th>stand_GROUP</th>\n",
       "      <th>stand_QH</th>\n",
       "    </tr>\n",
       "  </thead>\n",
       "  <tbody>\n",
       "    <tr>\n",
       "      <th>116</th>\n",
       "      <td>Marine_species</td>\n",
       "      <td>NaN</td>\n",
       "      <td>NaN</td>\n",
       "      <td>NaN</td>\n",
       "      <td>NaN</td>\n",
       "      <td>NaN</td>\n",
       "      <td>NaN</td>\n",
       "    </tr>\n",
       "    <tr>\n",
       "      <th>222</th>\n",
       "      <td>Marine_species</td>\n",
       "      <td>None</td>\n",
       "      <td>NaN</td>\n",
       "      <td>NaN</td>\n",
       "      <td>NaN</td>\n",
       "      <td>NaN</td>\n",
       "      <td>NaN</td>\n",
       "    </tr>\n",
       "    <tr>\n",
       "      <th>257</th>\n",
       "      <td>Marine_species</td>\n",
       "      <td>cefas</td>\n",
       "      <td>NaN</td>\n",
       "      <td>NaN</td>\n",
       "      <td>NaN</td>\n",
       "      <td>NaN</td>\n",
       "      <td>NaN</td>\n",
       "    </tr>\n",
       "    <tr>\n",
       "      <th>278</th>\n",
       "      <td>Marine_species</td>\n",
       "      <td>NaN</td>\n",
       "      <td>NaN</td>\n",
       "      <td>NaN</td>\n",
       "      <td>NaN</td>\n",
       "      <td>NaN</td>\n",
       "      <td>NaN</td>\n",
       "    </tr>\n",
       "    <tr>\n",
       "      <th>305</th>\n",
       "      <td>Marine_species</td>\n",
       "      <td>Gaiaguide,</td>\n",
       "      <td>NaN</td>\n",
       "      <td>NaN</td>\n",
       "      <td>NaN</td>\n",
       "      <td>NaN</td>\n",
       "      <td>NaN</td>\n",
       "    </tr>\n",
       "    <tr>\n",
       "      <th>358</th>\n",
       "      <td>Marine_species</td>\n",
       "      <td>Update taxonomy ,  Diving Canary Islands</td>\n",
       "      <td>NaN</td>\n",
       "      <td>NaN</td>\n",
       "      <td>NaN</td>\n",
       "      <td>NaN</td>\n",
       "      <td>NaN</td>\n",
       "    </tr>\n",
       "    <tr>\n",
       "      <th>359</th>\n",
       "      <td>Marine_species</td>\n",
       "      <td>Validate taxonomy of their marine species,  Go...</td>\n",
       "      <td>NaN</td>\n",
       "      <td>NaN</td>\n",
       "      <td>NaN</td>\n",
       "      <td>NaN</td>\n",
       "      <td>NaN</td>\n",
       "    </tr>\n",
       "    <tr>\n",
       "      <th>376</th>\n",
       "      <td>Marine_regions</td>\n",
       "      <td>?</td>\n",
       "      <td>NaN</td>\n",
       "      <td>NaN</td>\n",
       "      <td>NaN</td>\n",
       "      <td>NaN</td>\n",
       "      <td>NaN</td>\n",
       "    </tr>\n",
       "    <tr>\n",
       "      <th>379</th>\n",
       "      <td>Marine_regions</td>\n",
       "      <td>?</td>\n",
       "      <td>NaN</td>\n",
       "      <td>NaN</td>\n",
       "      <td>NaN</td>\n",
       "      <td>NaN</td>\n",
       "      <td>NaN</td>\n",
       "    </tr>\n",
       "    <tr>\n",
       "      <th>381</th>\n",
       "      <td>Marine_regions</td>\n",
       "      <td>?</td>\n",
       "      <td>NaN</td>\n",
       "      <td>NaN</td>\n",
       "      <td>NaN</td>\n",
       "      <td>NaN</td>\n",
       "      <td>NaN</td>\n",
       "    </tr>\n",
       "    <tr>\n",
       "      <th>383</th>\n",
       "      <td>Marine_regions</td>\n",
       "      <td>?</td>\n",
       "      <td>NaN</td>\n",
       "      <td>NaN</td>\n",
       "      <td>NaN</td>\n",
       "      <td>NaN</td>\n",
       "      <td>NaN</td>\n",
       "    </tr>\n",
       "    <tr>\n",
       "      <th>385</th>\n",
       "      <td>Marine_regions</td>\n",
       "      <td>?</td>\n",
       "      <td>NaN</td>\n",
       "      <td>NaN</td>\n",
       "      <td>NaN</td>\n",
       "      <td>NaN</td>\n",
       "      <td>NaN</td>\n",
       "    </tr>\n",
       "    <tr>\n",
       "      <th>388</th>\n",
       "      <td>Marine_regions</td>\n",
       "      <td>?</td>\n",
       "      <td>NaN</td>\n",
       "      <td>NaN</td>\n",
       "      <td>NaN</td>\n",
       "      <td>NaN</td>\n",
       "      <td>NaN</td>\n",
       "    </tr>\n",
       "    <tr>\n",
       "      <th>393</th>\n",
       "      <td>Marine_regions</td>\n",
       "      <td>?</td>\n",
       "      <td>NaN</td>\n",
       "      <td>NaN</td>\n",
       "      <td>NaN</td>\n",
       "      <td>NaN</td>\n",
       "      <td>NaN</td>\n",
       "    </tr>\n",
       "    <tr>\n",
       "      <th>438</th>\n",
       "      <td>Marine_regions</td>\n",
       "      <td>Project Drawdown</td>\n",
       "      <td>NaN</td>\n",
       "      <td>NaN</td>\n",
       "      <td>NaN</td>\n",
       "      <td>NaN</td>\n",
       "      <td>NaN</td>\n",
       "    </tr>\n",
       "    <tr>\n",
       "      <th>490</th>\n",
       "      <td>Marine_regions</td>\n",
       "      <td>CGG</td>\n",
       "      <td>NaN</td>\n",
       "      <td>NaN</td>\n",
       "      <td>NaN</td>\n",
       "      <td>NaN</td>\n",
       "      <td>NaN</td>\n",
       "    </tr>\n",
       "    <tr>\n",
       "      <th>491</th>\n",
       "      <td>Marine_regions</td>\n",
       "      <td>CLS</td>\n",
       "      <td>NaN</td>\n",
       "      <td>NaN</td>\n",
       "      <td>NaN</td>\n",
       "      <td>NaN</td>\n",
       "      <td>NaN</td>\n",
       "    </tr>\n",
       "    <tr>\n",
       "      <th>500</th>\n",
       "      <td>Marine_regions</td>\n",
       "      <td>Lighthouse</td>\n",
       "      <td>NaN</td>\n",
       "      <td>NaN</td>\n",
       "      <td>NaN</td>\n",
       "      <td>NaN</td>\n",
       "      <td>NaN</td>\n",
       "    </tr>\n",
       "    <tr>\n",
       "      <th>501</th>\n",
       "      <td>Marine_regions</td>\n",
       "      <td>MAAS</td>\n",
       "      <td>NaN</td>\n",
       "      <td>NaN</td>\n",
       "      <td>NaN</td>\n",
       "      <td>NaN</td>\n",
       "      <td>NaN</td>\n",
       "    </tr>\n",
       "    <tr>\n",
       "      <th>504</th>\n",
       "      <td>Marine_regions</td>\n",
       "      <td>MDA</td>\n",
       "      <td>NaN</td>\n",
       "      <td>NaN</td>\n",
       "      <td>NaN</td>\n",
       "      <td>NaN</td>\n",
       "      <td>NaN</td>\n",
       "    </tr>\n",
       "    <tr>\n",
       "      <th>509</th>\n",
       "      <td>Marine_regions</td>\n",
       "      <td>Oralia Maritime</td>\n",
       "      <td>NaN</td>\n",
       "      <td>NaN</td>\n",
       "      <td>NaN</td>\n",
       "      <td>NaN</td>\n",
       "      <td>NaN</td>\n",
       "    </tr>\n",
       "    <tr>\n",
       "      <th>510</th>\n",
       "      <td>Marine_regions</td>\n",
       "      <td>Ophir</td>\n",
       "      <td>NaN</td>\n",
       "      <td>NaN</td>\n",
       "      <td>NaN</td>\n",
       "      <td>NaN</td>\n",
       "      <td>NaN</td>\n",
       "    </tr>\n",
       "    <tr>\n",
       "      <th>512</th>\n",
       "      <td>Marine_regions</td>\n",
       "      <td>Pelagian</td>\n",
       "      <td>NaN</td>\n",
       "      <td>NaN</td>\n",
       "      <td>NaN</td>\n",
       "      <td>NaN</td>\n",
       "      <td>NaN</td>\n",
       "    </tr>\n",
       "    <tr>\n",
       "      <th>514</th>\n",
       "      <td>Marine_regions</td>\n",
       "      <td>Primeval Treks</td>\n",
       "      <td>NaN</td>\n",
       "      <td>NaN</td>\n",
       "      <td>NaN</td>\n",
       "      <td>NaN</td>\n",
       "      <td>NaN</td>\n",
       "    </tr>\n",
       "    <tr>\n",
       "      <th>520</th>\n",
       "      <td>Marine_regions</td>\n",
       "      <td>SAGA</td>\n",
       "      <td>NaN</td>\n",
       "      <td>NaN</td>\n",
       "      <td>NaN</td>\n",
       "      <td>NaN</td>\n",
       "      <td>NaN</td>\n",
       "    </tr>\n",
       "    <tr>\n",
       "      <th>522</th>\n",
       "      <td>Marine_regions</td>\n",
       "      <td>Voyager</td>\n",
       "      <td>NaN</td>\n",
       "      <td>NaN</td>\n",
       "      <td>NaN</td>\n",
       "      <td>NaN</td>\n",
       "      <td>NaN</td>\n",
       "    </tr>\n",
       "  </tbody>\n",
       "</table>\n",
       "</div>"
      ],
      "text/plain": [
       "         DataSystem                                        Affiliation  \\\n",
       "116  Marine_species                                                NaN   \n",
       "222  Marine_species                                               None   \n",
       "257  Marine_species                                              cefas   \n",
       "278  Marine_species                                                NaN   \n",
       "305  Marine_species                                        Gaiaguide,    \n",
       "358  Marine_species           Update taxonomy ,  Diving Canary Islands   \n",
       "359  Marine_species  Validate taxonomy of their marine species,  Go...   \n",
       "376  Marine_regions                                                  ?   \n",
       "379  Marine_regions                                                  ?   \n",
       "381  Marine_regions                                                  ?   \n",
       "383  Marine_regions                                                  ?   \n",
       "385  Marine_regions                                                  ?   \n",
       "388  Marine_regions                                                  ?   \n",
       "393  Marine_regions                                                  ?   \n",
       "438  Marine_regions                                   Project Drawdown   \n",
       "490  Marine_regions                                                CGG   \n",
       "491  Marine_regions                                                CLS   \n",
       "500  Marine_regions                                         Lighthouse   \n",
       "501  Marine_regions                                               MAAS   \n",
       "504  Marine_regions                                                MDA   \n",
       "509  Marine_regions                                    Oralia Maritime   \n",
       "510  Marine_regions                                              Ophir   \n",
       "512  Marine_regions                                           Pelagian   \n",
       "514  Marine_regions                                     Primeval Treks   \n",
       "520  Marine_regions                                               SAGA   \n",
       "522  Marine_regions                                            Voyager   \n",
       "\n",
       "    stand_affil stand_country stand_flemish stand_GROUP stand_QH  \n",
       "116         NaN           NaN           NaN         NaN      NaN  \n",
       "222         NaN           NaN           NaN         NaN      NaN  \n",
       "257         NaN           NaN           NaN         NaN      NaN  \n",
       "278         NaN           NaN           NaN         NaN      NaN  \n",
       "305         NaN           NaN           NaN         NaN      NaN  \n",
       "358         NaN           NaN           NaN         NaN      NaN  \n",
       "359         NaN           NaN           NaN         NaN      NaN  \n",
       "376         NaN           NaN           NaN         NaN      NaN  \n",
       "379         NaN           NaN           NaN         NaN      NaN  \n",
       "381         NaN           NaN           NaN         NaN      NaN  \n",
       "383         NaN           NaN           NaN         NaN      NaN  \n",
       "385         NaN           NaN           NaN         NaN      NaN  \n",
       "388         NaN           NaN           NaN         NaN      NaN  \n",
       "393         NaN           NaN           NaN         NaN      NaN  \n",
       "438         NaN           NaN           NaN         NaN      NaN  \n",
       "490         NaN           NaN           NaN         NaN      NaN  \n",
       "491         NaN           NaN           NaN         NaN      NaN  \n",
       "500         NaN           NaN           NaN         NaN      NaN  \n",
       "501         NaN           NaN           NaN         NaN      NaN  \n",
       "504         NaN           NaN           NaN         NaN      NaN  \n",
       "509         NaN           NaN           NaN         NaN      NaN  \n",
       "510         NaN           NaN           NaN         NaN      NaN  \n",
       "512         NaN           NaN           NaN         NaN      NaN  \n",
       "514         NaN           NaN           NaN         NaN      NaN  \n",
       "520         NaN           NaN           NaN         NaN      NaN  \n",
       "522         NaN           NaN           NaN         NaN      NaN  "
      ]
     },
     "execution_count": 127,
     "metadata": {},
     "output_type": "execute_result"
    }
   ],
   "source": [
    "# Select the rows without stand_affil info available -> to get idea why not standardized:\n",
    "missing_standaffil = data_affil[data_affil['stand_affil'].isnull()]\n",
    "missing_standaffil"
   ]
  },
  {
   "cell_type": "code",
   "execution_count": 128,
   "metadata": {},
   "outputs": [],
   "source": [
    "# data completeness of standardized rows:\n",
    "standaffil_data = data[['Affiliation', 'stand_affil', 'stand_country', 'stand_flemish', 'stand_GROUP', 'stand_QH']]"
   ]
  },
  {
   "cell_type": "code",
   "execution_count": 129,
   "metadata": {
    "scrolled": true
   },
   "outputs": [
    {
     "data": {
      "text/plain": [
       "Affiliation      735\n",
       "stand_affil      711\n",
       "stand_country    615\n",
       "stand_flemish    140\n",
       "stand_GROUP      615\n",
       "stand_QH         615\n",
       "Name: count, dtype: object"
      ]
     },
     "execution_count": 129,
     "metadata": {},
     "output_type": "execute_result"
    }
   ],
   "source": [
    "# Absolute count:\n",
    "stand_data_count = standaffil_data.describe().iloc[0]\n",
    "stand_data_count"
   ]
  },
  {
   "cell_type": "code",
   "execution_count": 130,
   "metadata": {},
   "outputs": [
    {
     "data": {
      "text/plain": [
       "Affiliation          100\n",
       "stand_affil      96.7347\n",
       "stand_country    83.6735\n",
       "stand_flemish    19.0476\n",
       "stand_GROUP      83.6735\n",
       "stand_QH         83.6735\n",
       "Name: count, dtype: object"
      ]
     },
     "execution_count": 130,
     "metadata": {},
     "output_type": "execute_result"
    }
   ],
   "source": [
    "# Percentage:\n",
    "stand_data_perc = stand_data_count.divide(stand_data_count.Affiliation, axis=0).multiply(100)\n",
    "stand_data_perc"
   ]
  },
  {
   "cell_type": "code",
   "execution_count": null,
   "metadata": {},
   "outputs": [],
   "source": []
  }
 ],
 "metadata": {
  "kernelspec": {
   "display_name": "Python 3",
   "language": "python",
   "name": "python3"
  },
  "language_info": {
   "codemirror_mode": {
    "name": "ipython",
    "version": 3
   },
   "file_extension": ".py",
   "mimetype": "text/x-python",
   "name": "python",
   "nbconvert_exporter": "python",
   "pygments_lexer": "ipython3",
   "version": "3.7.5"
  }
 },
 "nbformat": 4,
 "nbformat_minor": 4
}
