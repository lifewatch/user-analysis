{
 "cells": [
  {
   "cell_type": "markdown",
   "metadata": {},
   "source": [
    "# LifeWatch publication Statistics per publication type\n",
    "\n",
    "This jupyter notebook contains statistics relating to types of publications of within the LifeWatch project."
   ]
  },
  {
   "cell_type": "markdown",
   "metadata": {},
   "source": [
    "Import and load the data"
   ]
  },
  {
   "cell_type": "code",
   "execution_count": 1,
   "metadata": {},
   "outputs": [],
   "source": [
    "# Load necessary libraries and functions\n",
    "import sys\n",
    "import os\n",
    "import chardet\n",
    "import pandas as pd\n",
    "import numpy as np\n",
    "import matplotlib.pyplot as plt"
   ]
  },
  {
   "cell_type": "code",
   "execution_count": 2,
   "metadata": {},
   "outputs": [],
   "source": [
    "# Select the data file\n",
    "name_datafile = \"test4.csv\"\n",
    "\n",
    "# Read data\n",
    "location_standdata = os.path.join(os.path.abspath(os.path.join(os.getcwd(), os.pardir)), \"LW_publications_standardized\", name_datafile)\n",
    "data = pd.read_csv(location_standdata)\n",
    "data.rename(columns={'SortDate': 'Year'}, inplace=True)\n",
    "#print(data.columns)"
   ]
  },
  {
   "cell_type": "code",
   "execution_count": 3,
   "metadata": {},
   "outputs": [
    {
     "data": {
      "text/plain": [
       "Index(['Unnamed: 0', 'BrefID', 'Year', 'BibLvlCode', 'StandardTitle',\n",
       "       'RefStrFull', 'AbstractEnglish', 'Refstringauthors', 'WoScode',\n",
       "       'FullAut', 'Affiliation', 'DOI', 'ownDOI', 'Special Collections',\n",
       "       'GeoTerms', 'TaxTerms', 'ThesTerms', 'OtherTerms', 'AuthorKeywords',\n",
       "       'wos_affil', 'wos_country', 'wos_keywords', 'wos_plus_keywords',\n",
       "       'wos_categories', 'wos_researcharea', 'stand_affil',\n",
       "       'similarity_method', 'stand_country', 'stand_flemish', 'stand_GROUP',\n",
       "       'stand_QH'],\n",
       "      dtype='object')"
      ]
     },
     "execution_count": 3,
     "metadata": {},
     "output_type": "execute_result"
    }
   ],
   "source": [
    "data.columns"
   ]
  },
  {
   "cell_type": "markdown",
   "metadata": {},
   "source": []
  }
 ],
 "metadata": {
  "kernelspec": {
   "display_name": "Python 3",
   "language": "python",
   "name": "python3"
  },
  "language_info": {
   "codemirror_mode": {
    "name": "ipython",
    "version": 3
   },
   "file_extension": ".py",
   "mimetype": "text/x-python",
   "name": "python",
   "nbconvert_exporter": "python",
   "pygments_lexer": "ipython3",
   "version": "3.7.5"
  }
 },
 "nbformat": 4,
 "nbformat_minor": 4
}
